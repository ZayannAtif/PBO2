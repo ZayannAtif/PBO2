{
  "nbformat": 4,
  "nbformat_minor": 0,
  "metadata": {
    "colab": {
      "provenance": [],
      "authorship_tag": "ABX9TyNUyupqbsHVUHLP8vE3jQ6C",
      "include_colab_link": true
    },
    "kernelspec": {
      "name": "python3",
      "display_name": "Python 3"
    },
    "language_info": {
      "name": "python"
    }
  },
  "cells": [
    {
      "cell_type": "markdown",
      "metadata": {
        "id": "view-in-github",
        "colab_type": "text"
      },
      "source": [
        "<a href=\"https://colab.research.google.com/github/ZayannAtif/PBO2/blob/main/class_resep.ipynb\" target=\"_parent\"><img src=\"https://colab.research.google.com/assets/colab-badge.svg\" alt=\"Open In Colab\"/></a>"
      ]
    },
    {
      "cell_type": "code",
      "execution_count": null,
      "metadata": {
        "colab": {
          "base_uri": "https://localhost:8080/"
        },
        "id": "_FNU6Y0eJGsr",
        "outputId": "e318c622-0604-4352-9932-9361636336b7"
      },
      "outputs": [
        {
          "output_type": "stream",
          "name": "stdout",
          "text": [
            "Nama Resep: Nasi Goreng\n",
            "Bahan-bahan: Nasi, telur, bawang, kecap\n",
            "Waktu Memasak: 15 menit\n"
          ]
        }
      ],
      "source": [
        "class Resep:\n",
        "    def __init__(self):\n",
        "        self.nama_resep = \"\"\n",
        "        self.bahan = \"\"\n",
        "        self.waktu_memasak = 0  # dalam menit\n",
        "\n",
        "def main():\n",
        "    resep = Resep()\n",
        "    resep.nama_resep = \"Nasi Goreng\"\n",
        "    resep.bahan = \"Nasi, telur, bawang, kecap\"\n",
        "    resep.waktu_memasak = 15\n",
        "\n",
        "    print('Nama Resep:', resep.nama_resep)\n",
        "    print('Bahan-bahan:', resep.bahan)\n",
        "    print('Waktu Memasak:', resep.waktu_memasak, 'menit')\n",
        "\n",
        "if __name__ == '__main__':\n",
        "    main()"
      ]
    }
  ]
}