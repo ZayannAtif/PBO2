{
  "nbformat": 4,
  "nbformat_minor": 0,
  "metadata": {
    "colab": {
      "provenance": [],
      "authorship_tag": "ABX9TyOaXTuYzFdYXuh16gMB++sk",
      "include_colab_link": true
    },
    "kernelspec": {
      "name": "python3",
      "display_name": "Python 3"
    },
    "language_info": {
      "name": "python"
    }
  },
  "cells": [
    {
      "cell_type": "markdown",
      "metadata": {
        "id": "view-in-github",
        "colab_type": "text"
      },
      "source": [
        "<a href=\"https://colab.research.google.com/github/ZayannAtif/PBO2/blob/main/class_event.ipynb\" target=\"_parent\"><img src=\"https://colab.research.google.com/assets/colab-badge.svg\" alt=\"Open In Colab\"/></a>"
      ]
    },
    {
      "cell_type": "code",
      "execution_count": null,
      "metadata": {
        "colab": {
          "base_uri": "https://localhost:8080/"
        },
        "id": "7VzLpD9qKmjM",
        "outputId": "9003fdcf-b205-441e-e4eb-aece810e954a"
      },
      "outputs": [
        {
          "output_type": "stream",
          "name": "stdout",
          "text": [
            "Nama Acara: Pengajian\n",
            "Tanggal Acara: 2025-03-15\n",
            "Lokasi Acara: Masjid Istiqlal\n"
          ]
        }
      ],
      "source": [
        "class Event:\n",
        "    def __init__(self):\n",
        "        self.nama_acara = \"\"\n",
        "        self.tanggal = \"\"\n",
        "        self.lokasi = \"\"\n",
        "\n",
        "def main():\n",
        "    event = Event()\n",
        "    event.nama_acara = \"Pengajian\"\n",
        "    event.tanggal = \"2025-03-15\"\n",
        "    event.lokasi = \"Masjid Istiqlal\"\n",
        "\n",
        "    print('Nama Acara:', event.nama_acara)\n",
        "    print('Tanggal Acara:', event.tanggal)\n",
        "    print('Lokasi Acara:', event.lokasi)\n",
        "\n",
        "if __name__ == '__main__':\n",
        "    main()"
      ]
    }
  ]
}