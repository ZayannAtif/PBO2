{
  "nbformat": 4,
  "nbformat_minor": 0,
  "metadata": {
    "colab": {
      "provenance": [],
      "authorship_tag": "ABX9TyOcgBdLbfvN1DTa+9dpRbbG",
      "include_colab_link": true
    },
    "kernelspec": {
      "name": "python3",
      "display_name": "Python 3"
    },
    "language_info": {
      "name": "python"
    }
  },
  "cells": [
    {
      "cell_type": "markdown",
      "metadata": {
        "id": "view-in-github",
        "colab_type": "text"
      },
      "source": [
        "<a href=\"https://colab.research.google.com/github/ZayannAtif/PBO2/blob/main/Class_film.ipynb\" target=\"_parent\"><img src=\"https://colab.research.google.com/assets/colab-badge.svg\" alt=\"Open In Colab\"/></a>"
      ]
    },
    {
      "cell_type": "code",
      "execution_count": null,
      "metadata": {
        "colab": {
          "base_uri": "https://localhost:8080/"
        },
        "id": "f36S-vbhF8Ry",
        "outputId": "08a3be08-d4e5-400c-8ca7-e084f376add2"
      },
      "outputs": [
        {
          "output_type": "stream",
          "name": "stdout",
          "text": [
            "Judul Film: Inception\n",
            "Sutradara: Zhorif Aisy\n",
            "Tahun Rilis: 2010\n"
          ]
        }
      ],
      "source": [
        "class Film:\n",
        "    def __init__(self):\n",
        "        self.judul = \"\"\n",
        "        self.sutradara = \"\"\n",
        "        self.tahun_rilis = 0\n",
        "\n",
        "def main():\n",
        "    film = Film()\n",
        "    film.judul = \"Inception\"\n",
        "    film.sutradara = \"Zhorif Aisy\"\n",
        "    film.tahun_rilis = 2010\n",
        "\n",
        "    print('Judul Film:', film.judul)\n",
        "    print('Sutradara:', film.sutradara)\n",
        "    print('Tahun Rilis:', film.tahun_rilis)\n",
        "\n",
        "if __name__ == '__main__':\n",
        "    main()"
      ]
    }
  ]
}