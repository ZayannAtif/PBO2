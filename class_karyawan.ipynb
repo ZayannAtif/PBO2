{
  "nbformat": 4,
  "nbformat_minor": 0,
  "metadata": {
    "colab": {
      "provenance": [],
      "authorship_tag": "ABX9TyPxakZuSjSvo8TRBWVMVxd1",
      "include_colab_link": true
    },
    "kernelspec": {
      "name": "python3",
      "display_name": "Python 3"
    },
    "language_info": {
      "name": "python"
    }
  },
  "cells": [
    {
      "cell_type": "markdown",
      "metadata": {
        "id": "view-in-github",
        "colab_type": "text"
      },
      "source": [
        "<a href=\"https://colab.research.google.com/github/ZayannAtif/PBO2/blob/main/class_karyawan.ipynb\" target=\"_parent\"><img src=\"https://colab.research.google.com/assets/colab-badge.svg\" alt=\"Open In Colab\"/></a>"
      ]
    },
    {
      "cell_type": "code",
      "execution_count": 1,
      "metadata": {
        "colab": {
          "base_uri": "https://localhost:8080/"
        },
        "id": "PK9QydPxJ3cX",
        "outputId": "471a5ec8-1650-4fee-afb2-ab90b721ee8c"
      },
      "outputs": [
        {
          "output_type": "stream",
          "name": "stdout",
          "text": [
            "Nama Karyawan: Zayan Atif Tambusai\n",
            "Jabatan Karyawan: Manajer\n",
            "Gaji Karyawan: Rp 7500000.00\n"
          ]
        }
      ],
      "source": [
        "class Karyawan:\n",
        "    def __init__(self):\n",
        "        self.nama = \"\"\n",
        "        self.jabatan = \"\"\n",
        "        self.gaji = 0.0\n",
        "\n",
        "def main():\n",
        "    karyawan = Karyawan()\n",
        "    karyawan.nama = \"Zayan Atif Tambusai\"\n",
        "    karyawan.jabatan = \"Manajer\"\n",
        "    karyawan.gaji = 7500000.0\n",
        "\n",
        "    print('Nama Karyawan:', karyawan.nama)\n",
        "    print('Jabatan Karyawan:', karyawan.jabatan)\n",
        "    print('Gaji Karyawan: Rp %.2f' % karyawan.gaji)\n",
        "\n",
        "if __name__ == '__main__':\n",
        "    main()"
      ]
    }
  ]
}