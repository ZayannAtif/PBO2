{
  "nbformat": 4,
  "nbformat_minor": 0,
  "metadata": {
    "colab": {
      "provenance": [],
      "authorship_tag": "ABX9TyOczbyeK5sTO1sDIBk92o3h",
      "include_colab_link": true
    },
    "kernelspec": {
      "name": "python3",
      "display_name": "Python 3"
    },
    "language_info": {
      "name": "python"
    }
  },
  "cells": [
    {
      "cell_type": "markdown",
      "metadata": {
        "id": "view-in-github",
        "colab_type": "text"
      },
      "source": [
        "<a href=\"https://colab.research.google.com/github/ZayannAtif/PBO2/blob/main/class_mobil.ipynb\" target=\"_parent\"><img src=\"https://colab.research.google.com/assets/colab-badge.svg\" alt=\"Open In Colab\"/></a>"
      ]
    },
    {
      "cell_type": "code",
      "execution_count": null,
      "metadata": {
        "colab": {
          "base_uri": "https://localhost:8080/"
        },
        "id": "-HYTdMblHh9s",
        "outputId": "797197ad-bb33-41d9-c07c-240f2b416a8b"
      },
      "outputs": [
        {
          "output_type": "stream",
          "name": "stdout",
          "text": [
            "Merek Mobil: Toyota\n",
            "Model Mobil: Camry\n",
            "Tahun Pembuatan: 2020\n"
          ]
        }
      ],
      "source": [
        "class Mobil:\n",
        "    def __init__(self):\n",
        "        self.merek = \"\"\n",
        "        self.model = \"\"\n",
        "        self.tahun_pembuatan = 0\n",
        "\n",
        "def main():\n",
        "    mobil = Mobil()\n",
        "    mobil.merek = \"Toyota\"\n",
        "    mobil.model = \"Camry\"\n",
        "    mobil.tahun_pembuatan = 2020\n",
        "\n",
        "    print('Merek Mobil:', mobil.merek)\n",
        "    print('Model Mobil:', mobil.model)\n",
        "    print('Tahun Pembuatan:', mobil.tahun_pembuatan)\n",
        "\n",
        "if __name__ == '__main__':\n",
        "    main()"
      ]
    }
  ]
}